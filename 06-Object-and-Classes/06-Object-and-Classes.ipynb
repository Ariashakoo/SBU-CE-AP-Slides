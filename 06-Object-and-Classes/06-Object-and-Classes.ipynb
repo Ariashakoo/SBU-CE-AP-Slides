{
 "cells": [
  {
   "cell_type": "markdown",
   "id": "fa4a6c3d",
   "metadata": {},
   "source": [
    "<link rel=\"stylesheet\" href=\"style.css\">\n",
    "<!-- add a div to make bg white -->\n",
    "<div class=\"card cover-card\" dir=\"rtl\">\n",
    "    <p class=\"pretitle\">به نام خدا</p>\n",
    "    <div class=\"brand-center\">\n",
    "      <img src=\"img/Sbu-logo.png\" alt=\"SBU Logo\" class=\"logo\" />\n",
    "    </div>\n",
    "    <h1 class=\"title\">برنامه‌سازی پیشرفته</h1>\n",
    "    <p class=\"inst\">دانشگاه شهید بهشتی · دانشکده مهندسی کامپیوتر</p>\n",
    "    <p class=\"inst\">دکتر مجتبی وحیدی اصل</p>\n",
    "    <hr class=\"divider\" />\n",
    "    <h3>آشنایی با شیءگرایی - بخش دوم</h3>\n",
    "    <div class=\"authors\">نازنین فروتن</div>\n",
    "    <br></br>\n",
    "</div>"
   ]
  },
  {
   "cell_type": "markdown",
   "id": "17f45659",
   "metadata": {},
   "source": [
    "<link rel=\"stylesheet\" href=\"style.css\">\n",
    "<div class=\"card bold\" dir=\"rtl\">\n",
    "  <h2>فهرست مطالب</h2>\n",
    "  <ol>\n",
    "    <li>انگیزه</li>\n",
    "    <li>اشیا و کلاس‌های تغییرناپذیر (Immutable)</li>\n",
    "    <li>حوزه متغیرها</li>\n",
    "    <li>سطوح دسترسی در جاوا</li>\n",
    "    <ul>\n",
    "      <li><strong>private</strong></li>\n",
    "      <li><strong>default</strong></li>\n",
    "      <li><strong>protected</strong></li>\n",
    "      <li><strong>public</strong></li>\n",
    "    </ul>\n",
    "    <li>کلمه کلیدی this</li>\n",
    "    <li>انتزاع و کپسوله‌سازی</li>\n",
    "    <li>طراحی کلاس Loan (وام)</li>\n",
    "    <li>طراحی کلاس BMI (شاخص توده بدنی)</li>\n",
    "    <li>مثال: کلاس Course (درس)</li>\n",
    "    <li>مثال: کلاس StackOfIntegers (پشته اعداد صحیح)</li>\n",
    "  </ol>\n",
    "</div>\n"
   ]
  },
  {
   "cell_type": "markdown",
   "id": "fd58cff2",
   "metadata": {},
   "source": [
    "<link rel=\"stylesheet\" href=\"style.css\">\n",
    "<div class=\"card\" dir=\"rtl\">\n",
    "  <h2>انگیزه</h2>\n",
    "  <p style=\"text-align: center;\">\n",
    "    در جلسه قبل با برخی مزایای برنامه نویسی شیءگرا آشنا شدیم.\n",
    "  </p>\n",
    "\n",
    "  <p style=\"text-align: center;\">\n",
    "    در این جلسه برخی دیگر از این مزایا را با ارائه مثال بررسی خواهیم نمود.\n",
    "  </p>\n",
    "</div>\n",
    "\n",
    "\n",
    "<hr class=\"divider\" />"
   ]
  },
  {
   "cell_type": "markdown",
   "id": "b6ca8017",
   "metadata": {},
   "source": [
    "<link rel=\"stylesheet\" href=\"style.css\">\n",
    "<div class=\"card\" dir=\"rtl\">\n",
    "  <h2>اشیا و کلاس‌های تغییرناپذیر (immuatable)</h2>\n",
    "\n",
    "\n",
    "\n",
    "  <ul>\n",
    "    <li> اگر محتوای یک شیء پس از ایجاد آن نتواند تغییر کند، به آن شیء تغییرناپذیر گفته می‌شود و کلاس مربوطه کلاس تغییرناپذیر نامیده می‌شود.</li>\n",
    "    <li>اگر شما متد set در کلاس Circle را در قطعه کد بعدی حذف کنید، کلاس تغییرناپذیر خواهد شد؛ چون radious سطح دسترسی private دارد و بدون متد set قابل دستکاری نمی‌باشد.</li>\n",
    "  </ul>\n",
    "  \n",
    "\n",
    "  <p>\n",
    "    کلاسی که همه فیلدهای آن private هستند، بدون وجود تغییر‌دهنده‌ها (mutators) لزوماً تغییرناپذیر نمی‌باشد. برای مثال کلاس Student که همه فیلدهای آن private است و متد تغییر‌دهنده ندارد، همچنان تغییرپذیر می‌باشد.\n",
    "  </p>\n",
    "\n",
    "  <hr class=\"divider\" />"
   ]
  },
  {
   "cell_type": "code",
   "execution_count": null,
   "id": "6ce7caf3",
   "metadata": {
    "vscode": {
     "languageId": "java"
    }
   },
   "outputs": [],
   "source": [
    "/* مثالی از کلاس تغییر پذیر */\n",
    "\n",
    "public class Circle3 {\n",
    "    /** The radius of the circle */\n",
    "    private double radius = 1;\n",
    "\n",
    "    /** Construct a circle with a specified radius */\n",
    "    public Circle3(double newRadius) {\n",
    "        radius = newRadius;\n",
    "        numberOfObjects++;\n",
    "    }\n",
    "\n",
    "    /** Return radius */\n",
    "    public double getRadius() {\n",
    "        return radius;\n",
    "    }\n",
    "\n",
    "    /** Set a new radius */\n",
    "    public void setRadius(double newRadius) {\n",
    "        radius = (newRadius >= 0) ? newRadius : 0;\n",
    "    }\n",
    "\n",
    "    /** Return the area of this circle */\n",
    "    public double getArea() {\n",
    "        return radius * radius * Math.PI;\n",
    "    }\n",
    "}"
   ]
  },
  {
   "cell_type": "code",
   "execution_count": null,
   "id": "950700c8",
   "metadata": {
    "vscode": {
     "languageId": "java"
    }
   },
   "outputs": [],
   "source": [
    "/* مثالی از کلاس تغییر ناپذیر */\n",
    "\n",
    "\n",
    "public class Circle3 {\n",
    "    /** The radius of the circle */\n",
    "    private double radius = 1;\n",
    "\n",
    "    /** Construct a circle with a specified radius */\n",
    "    public Circle3(double newRadius) {\n",
    "        radius = newRadius;\n",
    "        numberOfObjects++;\n",
    "    }\n",
    "\n",
    "    /** Return radius */\n",
    "    public double getRadius() {\n",
    "        return radius;\n",
    "    }\n",
    "\n",
    "    /** Set a new radius */\n",
    "    private void setRadius(double newRadius) {\n",
    "        radius = (newRadius >= 0) ? newRadius : 0;\n",
    "    }\n",
    "\n",
    "    /** Return the area of this circle */\n",
    "    public double getArea() {\n",
    "        return radius * radius * Math.PI;\n",
    "    }\n",
    "}"
   ]
  },
  {
   "cell_type": "markdown",
   "id": "6ec5bf93",
   "metadata": {},
   "source": [
    "<link rel=\"stylesheet\" href=\"style.css\">\n",
    "<div class=\"card\" dir=\"rtl\">\n",
    "  <h4 style=\"text-align: center;\"> <strong> مثال </strong> </h4>"
   ]
  },
  {
   "cell_type": "code",
   "execution_count": null,
   "id": "da81fe2d",
   "metadata": {
    "vscode": {
     "languageId": "java"
    }
   },
   "outputs": [],
   "source": [
    "public class Student {\n",
    "    private int id;\n",
    "    private BirthDate birthDate;\n",
    "\n",
    "    public Student(int ssn, int year, int month, int day) {\n",
    "        id = ssn;\n",
    "        birthDate = new BirthDate(year, month, day);\n",
    "    }\n",
    "\n",
    "    public int getId() {\n",
    "        return id;\n",
    "    }\n",
    "\n",
    "    public BirthDate getBirthDate() {\n",
    "        return birthDate;\n",
    "    }\n",
    "}"
   ]
  },
  {
   "cell_type": "code",
   "execution_count": null,
   "id": "9cbbcab5",
   "metadata": {
    "vscode": {
     "languageId": "java"
    }
   },
   "outputs": [],
   "source": [
    "public class BirthDate {\n",
    "    private int year;\n",
    "    private int month;\n",
    "    private int day;\n",
    "\n",
    "    public BirthDate(int newYear, int newMonth, int newDay) {\n",
    "        year = newYear;\n",
    "        month = newMonth;\n",
    "        day = newDay;\n",
    "    }\n",
    "\n",
    "    public void setYear(int newYear) {\n",
    "        year = newYear;\n",
    "    }\n",
    "}"
   ]
  },
  {
   "cell_type": "code",
   "execution_count": null,
   "id": "bf46f32c",
   "metadata": {
    "vscode": {
     "languageId": "java"
    }
   },
   "outputs": [],
   "source": [
    "public class Test {\n",
    "    public static void main(String[] args) {\n",
    "        Student student = new Student(111223333, 1970, 5, 3);\n",
    "        BirthDate date = student.getBirthDate();\n",
    "        date.setYear(2010); // Now the student birth year is changed!\n",
    "    }\n",
    "}"
   ]
  },
  {
   "cell_type": "markdown",
   "id": "b9cdec83",
   "metadata": {},
   "source": [
    "<link rel=\"stylesheet\" href=\"style.css\">\n",
    "<div class=\"card\" dir=\"rtl\">\n",
    "  <h4 style=\"text-align: center;\"> <strong>چه کلاسی تغییرناپذیر است؟ </strong> </h4>\n",
    "\n",
    "\n",
    "  <p>\n",
    "    برای اینکه کلاس تغییرناپذیر باشد، همه فیلدهای داده‌ای آن باید private تعریف شوند و هیچ متد تغییر‌دهنده یا متد دسترسی وجود نداشته باشد که ارجاعی به یک فیلد داده‌ای قابل تغییر را برگردانند.\n",
    "  </p>\n",
    "\n",
    "</div>\n",
    "\n",
    "<hr class=\"divider\" />\n",
    "\n",
    "\n",
    "<link rel=\"stylesheet\" href=\"style.css\">\n",
    "<div class=\"card\" dir=\"rtl\">\n",
    "  <h3>حوزه متغیرها</h3>\n",
    "  <ul>\n",
    "    <li> حوزه متغیرهای نمونه و استاتیک کل محدوده کلاس است. این متغیرها می‌توانند در هر جایی داخل کلاس تعریف شوند.</li>\n",
    "    <li>حوزه یک متغیر محلی از نقطه اعلان آن آغاز و تا انتهای بلاکی که حاوی آن متغیر است ادامه می‌یابد. یک متغیر محلی باید پیش از استفاده مقداردهی شده باشد.</li>\n",
    "  </ul>\n",
    "</div>\n",
    "\n",
    "  <hr class=\"divider\" />\n",
    "\n",
    "<link rel=\"stylesheet\" href=\"style.css\">\n",
    "<div class=\"card\" dir=\"rtl\">\n",
    "\n",
    "<h3>سطوح دسترسی در جاوا - بررسی دقیق‌تر</h3>\n",
    "  \n",
    "\n",
    "  <ul> \n",
    "    <li>\n",
    "      تغییر‌دهنده‌های دسترسی (access modifiers) در جاوا دسترس‌پذیری (حوزه) یک فیلد داده‌ای، متد، سازنده یا کلاس را مشخص می‌کند.\n",
    "    </li>\n",
    "    <li> \n",
    "      در جاوا چهار سطح دسترسی اصلی برای متغیرها، متدها و کلاس‌ها وجود دارد. \n",
    "      این سطوح دسترسی میزان قابل‌مشاهده بودن (visibility) و امکان استفاده از آن‌ها \n",
    "      در سایر کلاس‌ها یا پکیج‌ها را مشخص می‌کنند:\n",
    "    </li>\n",
    "  </ul>\n",
    "\n",
    "  <ol>\n",
    "    <li><strong>private</strong>: فقط در داخل همان کلاس قابل دسترسی است.</li>\n",
    "    <li><strong>default (package-private)</strong>: در صورت عدم ذکر سطح دسترسی، \n",
    "      فقط در همان پکیج قابل دسترسی خواهد بود.</li>\n",
    "    <li><strong>protected</strong>: در همان پکیج و همچنین در کلاس‌های فرزند \n",
    "      (subclass) حتی در پکیج‌های دیگر قابل دسترسی است.</li>\n",
    "    <li><strong>public</strong>: در همه جا بدون محدودیت قابل دسترسی است.</li>\n",
    "  </ol>\n",
    "\n",
    "</div>\n",
    "\n",
    "  <hr class=\"divider\" />\n",
    "\n",
    "<link rel=\"stylesheet\" href=\"style.css\">\n",
    "<div class=\"card\" dir=\"rtl\">\n",
    "  <h4 style=\"text-align: center;\"> <strong> تغییردهنده دسترسی private </strong> </h4>\n",
    "\n",
    "  <p>\n",
    "    اگر سازنده یک کلاس را private تعریف کنیم، نمی‌توانیم نمونه‌ای از کلاس را در خارج از آن کلاس ایجاد کنیم.\n",
    "</p>\n",
    "\n",
    "</div>"
   ]
  },
  {
   "cell_type": "code",
   "execution_count": null,
   "id": "64574fd6",
   "metadata": {
    "vscode": {
     "languageId": "java"
    }
   },
   "outputs": [],
   "source": [
    "class A {\n",
    "    private A() {} // private constructor\n",
    "\n",
    "    void msg() {\n",
    "        System.out.println(\"Hello java\");\n",
    "    }\n",
    "}\n",
    "\n",
    "public class Simple {\n",
    "    public static void main(String args[]) {\n",
    "        A obj = new A(); // Compile Time Error\n",
    "    }\n",
    "}"
   ]
  },
  {
   "cell_type": "markdown",
   "id": "ce3efde1",
   "metadata": {},
   "source": [
    "<link rel=\"stylesheet\" href=\"style.css\">\n",
    "<div class=\"card\" dir=\"rtl\">\n",
    "  <h4 style=\"text-align: center;\"> <strong> تغییردهنده دسترسی default </strong> </h4>\n",
    "  <ul>\n",
    "    <li>\n",
    "         اگر شما از هیچ تغییر‌دهنده‌ای استفاده نکنید، با آن فیلد یا متد، به طور پیش‌فرض default برخورد می‌شود. این تغییر‌دهنده سبب می‌شود فیلد یا متد مربوطه تنها از درون پکیجش قابل دسترسی باشد. \n",
    "    </li>\n",
    "    <li>\n",
    "      در مثال زیر دو پکیج pack و mypack داریم:\n",
    "    </li>\n",
    "  </ul>"
   ]
  },
  {
   "cell_type": "code",
   "execution_count": null,
   "id": "0d5c40c3",
   "metadata": {
    "vscode": {
     "languageId": "java"
    }
   },
   "outputs": [
    {
     "name": "stdout",
     "output_type": "stream",
     "text": [
      "Hello\n"
     ]
    }
   ],
   "source": [
    "class A {\n",
    "    void msg() {\n",
    "        System.out.println(\"Hello\");\n",
    "    }\n",
    "}\n",
    "\n",
    "class B {\n",
    "    public static void main(String[] args) {\n",
    "        A obj = new A();   \n",
    "        obj.msg();\n",
    "    }\n",
    "}\n",
    "\n",
    "B.main(new String[]{});\n"
   ]
  },
  {
   "cell_type": "markdown",
   "id": "61d8fee3",
   "metadata": {},
   "source": [
    "<link rel=\"stylesheet\" href=\"style.css\">\n",
    "<div class=\"card\" dir=\"rtl\">\n",
    "  <h4 style=\"text-align: center;\"> <strong> تغییردهنده دسترسی protected </strong> </h4>\n",
    "  <ul>\n",
    "    <li>\n",
    "         تغییر‌دهنده دسترسی protected سبب می‌شود فیلد مربوطه درون پکیج قابل دسترسی باشد یا توسط وراثت در خارج پکیج دسترس‌پذیر شود.\n",
    "    </li>\n",
    "    <li>\n",
    "      این تغییر‌دهنده می‌تواند بر روی فیلد داده‌ای، متد یا سازنده اعمال شود و بر روی کلاس اعمال نمی‌شود.\n",
    "    </li>\n",
    "    <li>\n",
    "      در مثال زیر دو پکیج pack و mypack داریم. کلاس A در پکیج pack به صورت public تعریف شده، پس در خارج از پکیج قابل دسترسی است. اما متد msg در این پکیج به صورت protected تعریف شده، در نتیجه در خارج پکیج فقط با وراثت قابل دسترسی می‌باشد:\n",
    "    </li>\n",
    "  </ul>"
   ]
  },
  {
   "cell_type": "code",
   "execution_count": null,
   "id": "34b5fccb",
   "metadata": {
    "vscode": {
     "languageId": "java"
    }
   },
   "outputs": [
    {
     "name": "stdout",
     "output_type": "stream",
     "text": [
      "Hello\n"
     ]
    }
   ],
   "source": [
    "public class A {\n",
    "    protected void msg() {\n",
    "        System.out.println(\"Hello\");\n",
    "    }\n",
    "}\n",
    "\n",
    "public class B extends A {\n",
    "    public static void main(String[] args) {\n",
    "        B obj = new B();\n",
    "        obj.msg();\n",
    "    }\n",
    "}\n",
    "\n",
    "B.main(new String[]{});\n"
   ]
  },
  {
   "cell_type": "markdown",
   "id": "f5b1bb46",
   "metadata": {},
   "source": [
    "<link rel=\"stylesheet\" href=\"style.css\">\n",
    "<div class=\"card\" dir=\"rtl\">\n",
    "  <h4 style=\"text-align: center;\"> <strong> تغییردهنده دسترسی public </strong> </h4>\n",
    "  <ul>\n",
    "    <li>\n",
    "         در همه جا قابل دسترسی است!\n",
    "    </li>\n",
    "    <li>\n",
    "      وسیع‌ترین حوزه دسترسی میان سایر تغییر‌دهنده‌ها را دارد.\n",
    "    </li>\n",
    "  </ul>"
   ]
  },
  {
   "cell_type": "code",
   "execution_count": 2,
   "id": "ccc8072f",
   "metadata": {
    "vscode": {
     "languageId": "java"
    }
   },
   "outputs": [
    {
     "name": "stdout",
     "output_type": "stream",
     "text": [
      "Hello\n"
     ]
    }
   ],
   "source": [
    "// save by A.java\n",
    "public class A {\n",
    "    public void msg() {\n",
    "        System.out.println(\"Hello\");\n",
    "    }\n",
    "}\n",
    "\n",
    "// save by B.java\n",
    "class B {\n",
    "    public static void main(String args[]) {\n",
    "        A obj = new A();\n",
    "        obj.msg();\n",
    "    }\n",
    "}\n",
    "\n",
    "B.main(new String[]{});"
   ]
  },
  {
   "cell_type": "markdown",
   "id": "f2e78a84",
   "metadata": {},
   "source": [
    "<link rel=\"stylesheet\" href=\"style.css\">\n",
    "<div class=\"card\" dir=\"rtl\">\n",
    "  <h4 style=\"text-align: center;\"> <strong> جدول سطوح دسترسی در جاوا </strong> </h4>\n",
    "    <div class=\"images\">\n",
    "        <img src=\"img/access-level-problem.png\" alt=\"جدول سطوح دسترسی در جاوا \">\n",
    "    </div>\n",
    "\n",
    "</div>\n",
    "\n",
    "<hr class=\"divider\" />\n",
    "\n",
    "\n",
    "<link rel=\"stylesheet\" href=\"style.css\">\n",
    "<div class=\"card\" dir=\"rtl\">\n",
    "  <h2>کلمه کلیدی this</h2>\n",
    "\n",
    "  <ul>\n",
    "    <li>کلمه کلیدی <strong>this</strong> نام ارجاعی است که به خود یک شیء اشاره می‌کند.</li>\n",
    "    <li>کاربرد مهم آن ارجاع به متغیر نمونه کلاس فعلی (جاری) است.</li>\n",
    "    <li>()This برای فراخوانی سازنده کلاس فعلی استفاده می‌شود.</li>\n",
    "    <li>برای فراخوانی متد کلاس فعلی به طور ضمنی استفاده می‌شود.</li>\n",
    "    <li>می‌تواند به عنوان آرگومان در فراخوانی یک متد استفاده شود.</li>\n",
    "    <li>می‌تواند به عنوان آرگومان در فراخوانی سازنده ارسال شود.</li>\n",
    "    <li>به یک سازنده امکان می‌دهد، سازنده دیگری از همان کلاس را فراخوانی نماید.</li>\n",
    "    <li>برای برگرداندن نمونه کلاس فعلی استفاده می‌شود.</li>\n",
    "  </ul>\n",
    "\n",
    "  <div class=\"slide-note\">\n",
    "     <strong>نکته: </strong>کلمه کلیدی this به نمونه فعلی کلاس اشاره می‌کند.\n",
    "  </div>\n",
    "\n",
    "  <div class=\"images\">\n",
    "    <img src=\"img/this-reference.png\" alt=\"this reference\">\n",
    "  </div>\n",
    "\n",
    "  <p>\n",
    "     هرگاه میان متغیر نمونه و پارامتر ارسالی، ابهام وجود داشته باشه، this برای رفع ابهام به کار می‌رود.\n",
    "  </p>\n",
    "  <p>\n",
    "    برای مثال در کد زیر از this استفاده نمی‌کنیم و در نتیجه دچار ابهام شدیم:\n",
    "  </p>\n",
    "</div>\n"
   ]
  },
  {
   "cell_type": "code",
   "execution_count": null,
   "id": "83d6c1d1",
   "metadata": {
    "vscode": {
     "languageId": "java"
    }
   },
   "outputs": [],
   "source": [
    "class Student10 {\n",
    "    int id;\n",
    "    String name;\n",
    "\n",
    "    Student10(int id, String name) {\n",
    "        id = id;\n",
    "        name = name;\n",
    "    }\n",
    "\n",
    "    void display() {\n",
    "        System.out.println(id + \" \" + name);\n",
    "    }\n",
    "\n",
    "    public static void main(String args[]) {\n",
    "        Student10 s1 = new Student10(111, \"Karan\");\n",
    "        Student10 s2 = new Student10(321, \"Aryan\");\n",
    "        s1.display();\n",
    "        s2.display();\n",
    "    }\n",
    "}"
   ]
  },
  {
   "cell_type": "markdown",
   "id": "030f33e8",
   "metadata": {},
   "source": [
    "<link rel=\"stylesheet\" href=\"style.css\">\n",
    "<div class=\"card\" dir=\"rtl\">\n",
    "  <p style=\"text-align: center;\"> <strong>  ارجاع به متغیر نمونه کلاس فعلی به عنوان فیلد پنهان </strong> </p>\n",
    "  <p>\n",
    "    در مثال قبلی، پارامتر متد (آرگومان‌های فرمال) و متغیرهای نمونه یکی هستند و به همین دلیل برای تمایز آنها از کلمه this استفاده می‌شود.\n",
    "  </p>\n",
    "\n",
    "</div>"
   ]
  },
  {
   "cell_type": "code",
   "execution_count": null,
   "id": "f6e6f82e",
   "metadata": {
    "vscode": {
     "languageId": "java"
    }
   },
   "outputs": [],
   "source": [
    "// example of this keyword\n",
    "class Student11 {\n",
    "    int id;\n",
    "    String name;\n",
    "\n",
    "    Student11(int id, String name) {\n",
    "        this.id = id;\n",
    "        this.name = name;\n",
    "    }\n",
    "\n",
    "    void display() {\n",
    "        System.out.println(id + \" \" + name);\n",
    "    }\n",
    "\n",
    "    public static void main(String args[]) {\n",
    "        Student11 s1 = new Student11(111, \"Karan\");\n",
    "        Student11 s2 = new Student11(222, \"Aryan\");\n",
    "        s1.display();\n",
    "        s2.display();\n",
    "    }\n",
    "}\n",
    "\n",
    "Student11.main(new String[]{});\n"
   ]
  },
  {
   "cell_type": "markdown",
   "id": "334da4f6",
   "metadata": {},
   "source": [
    "<link rel=\"stylesheet\" href=\"style.css\">\n",
    "<div class=\"card\" dir=\"rtl\">\n",
    "    <div class=\"slide-note\">\n",
    "        <strong>نکته:</strong> کلمه کلیدی this به فیلد‌های داده‌ای اشیای کلاس جاری اشاره می‌کند.\n",
    "    </div>\n",
    "\n",
    "  <div class=\"images-big\">\n",
    "    <img src=\"img/this-memory.png\" alt=\"this in stack and heap\" />\n",
    "  </div>\n",
    "\n",
    "  <hr class=\"divider\" />\n",
    "    \n",
    "  <div class=\"slide-note\">\n",
    "        <strong>نکته:</strong> اگر نام متغیرهای نمونه و پارامترهای متد کلاس متفاوت باشند، <strong> در این صورت به this نیازی نداریم. </strong>\n",
    "  </div>\n",
    "\n",
    "<p></p>\n",
    "</div>"
   ]
  },
  {
   "cell_type": "code",
   "execution_count": null,
   "id": "941b4462",
   "metadata": {
    "vscode": {
     "languageId": "java"
    }
   },
   "outputs": [],
   "source": [
    "class Student12 {\n",
    "    int id;\n",
    "    String name;\n",
    "\n",
    "    Student12(int i, String n) {\n",
    "        id = i;\n",
    "        name = n;\n",
    "    }\n",
    "\n",
    "    void display() {\n",
    "        System.out.println(id + \" \" + name);\n",
    "    }\n",
    "\n",
    "    public static void main(String args[]) {\n",
    "        Student12 e1 = new Student12(111, \"Karan\");\n",
    "        Student12 e2 = new Student12(222, \"Aryan\");\n",
    "        e1.display();\n",
    "        e2.display();\n",
    "    }\n",
    "}\n",
    "\n",
    "Student12.main(new String[]{});"
   ]
  },
  {
   "cell_type": "markdown",
   "id": "4a636254",
   "metadata": {},
   "source": [
    "<link rel=\"stylesheet\" href=\"style.css\">\n",
    "<div class=\"card\" dir=\"rtl\">\n",
    "    <p>\n",
    "        <strong>نکته:</strong> فراخوانی سازنده this() می‌تواند برای فراخوانی سازنده کلاس فعلی (زنجیره سازنده‌ها) استفاده شود.\n",
    "    </p>\n",
    "\n",
    "\n",
    "<p> </p>\n",
    "\n",
    "</div>"
   ]
  },
  {
   "cell_type": "code",
   "execution_count": null,
   "id": "17752297",
   "metadata": {
    "vscode": {
     "languageId": "java"
    }
   },
   "outputs": [],
   "source": [
    "// Program of this() constructor call (constructor chaining)\n",
    "class Student13 {\n",
    "    int id;\n",
    "    String name;\n",
    "\n",
    "    Student13() {\n",
    "        System.out.println(\"default constructor is invoked\");\n",
    "    }\n",
    "\n",
    "    Student13(int id, String name) {\n",
    "        this(); // it is used to invoke current class constructor.\n",
    "        this.id = id;\n",
    "        this.name = name;\n",
    "    }\n",
    "\n",
    "    void display() {\n",
    "        System.out.println(id + \" \" + name);\n",
    "    }\n",
    "\n",
    "    public static void main(String args[]) {\n",
    "        Student13 e1 = new Student13(111, \"Karan\");\n",
    "        Student13 e2 = new Student13(222, \"Aryan\");\n",
    "        e1.display();\n",
    "        e2.display();\n",
    "    }\n",
    "}\n",
    "\n",
    "Student13.main(new String[]{});"
   ]
  },
  {
   "cell_type": "markdown",
   "id": "81bb7fde",
   "metadata": {},
   "source": [
    "<link rel=\"stylesheet\" href=\"style.css\">\n",
    "<div class=\"card\" dir=\"rtl\">\n",
    "  <p> <strong>  چه موقع از فراخوانی سازنده this() استفاده کنیم؟</strong> </p>\n",
    "  <ul>\n",
    "    <li>فراخوانی سازنده this() در مواقع استفاده مجدد از یک سازنده در سازنده دیگر استفاده می‌شود.</li>\n",
    "    <li>این کلمه زنجیره‌ای را میان سازنده‌ها برقرار می‌کند.</li>\n",
    "  </ul>\n",
    "\n",
    "</div>"
   ]
  },
  {
   "cell_type": "code",
   "execution_count": null,
   "id": "4d921705",
   "metadata": {
    "vscode": {
     "languageId": "java"
    }
   },
   "outputs": [],
   "source": [
    "class Student14 {\n",
    "    int id;\n",
    "    String name;\n",
    "    String city;\n",
    "\n",
    "    Student14(int id, String name) {\n",
    "        this.id = id;\n",
    "        this.name = name;\n",
    "    }\n",
    "\n",
    "    Student14(int id, String name, String city) {\n",
    "        this(id, name); // now no need to initialize id and name\n",
    "        this.city = city;\n",
    "    }\n",
    "\n",
    "    void display() {\n",
    "        System.out.println(id + \" \" + name + \" \" + city);\n",
    "    }\n",
    "\n",
    "    public static void main(String args[]) {\n",
    "        Student14 e1 = new Student14(111, \"Karan\");\n",
    "        Student14 e2 = new Student14(222, \"Aryan\", \"delhi\");\n",
    "        e1.display();\n",
    "        e2.display();\n",
    "    }\n",
    "}\n",
    "\n",
    "Student14.main(new String[]{});"
   ]
  },
  {
   "cell_type": "markdown",
   "id": "de607d86",
   "metadata": {},
   "source": [
    "<link rel=\"stylesheet\" href=\"style.css\">\n",
    "<div class=\"card\" dir=\"rtl\">\n",
    "    <p><strong>یک قاعده:</strong> فراخوانی this() باید اولین جمله در سازنده باشد.</p>\n",
    "\n",
    "\n",
    "<p> </p>\n",
    "\n",
    "</div>"
   ]
  },
  {
   "cell_type": "code",
   "execution_count": null,
   "id": "85f09086",
   "metadata": {
    "vscode": {
     "languageId": "java"
    }
   },
   "outputs": [],
   "source": [
    "class Student15 {\n",
    "    int id;\n",
    "    String name;\n",
    "\n",
    "    Student15() {\n",
    "        System.out.println(\"default constructor is invoked\");\n",
    "    }\n",
    "\n",
    "    Student15(int id, String name) {\n",
    "        id = id;\n",
    "        name = name;\n",
    "        this(); // must be the first statement\n",
    "    }\n",
    "\n",
    "    void display() {\n",
    "        System.out.println(id + \" \" + name);\n",
    "    }\n",
    "\n",
    "    public static void main(String args[]) {\n",
    "        Student15 e1 = new Student15(111, \"Karan\");\n",
    "        Student15 e2 = new Student15(222, \"Aryan\");\n",
    "        e1.display();\n",
    "        e2.display();\n",
    "    }\n",
    "}\n",
    "\n",
    "Student15.main(new String[]{});"
   ]
  },
  {
   "cell_type": "markdown",
   "id": "37ed7531",
   "metadata": {},
   "source": [
    "<link rel=\"stylesheet\" href=\"style.css\">\n",
    "<div class=\"card\" dir=\"rtl\">\n",
    "  <p> <strong> کلمه this می‌تواند برای فراخوانی متد کلاس فعلی (به طور ضمنی) استفاده شود. </strong> </p>\n",
    "  <ul>\n",
    "    <li> شما می‌توانید متدی از کلاس جاری (فعلی) با this فراخوانی کنید.  </li>\n",
    "    <li> اگر شما از این کلمه استفاده نکنید، کامپایلر به طور خودکار این کلمه را در هنگام فراخوانی متد اضافه می‌کند. برای مثال: </li>\n",
    "  </ul>\n",
    "\n",
    "  <div class=\"images-big\">\n",
    "    <img src=\"img/this-method.png\" alt=\"Android Logo\" />\n",
    "  </div>\n",
    "\n",
    "</div>"
   ]
  },
  {
   "cell_type": "code",
   "execution_count": null,
   "id": "6d559a92",
   "metadata": {
    "vscode": {
     "languageId": "java"
    }
   },
   "outputs": [],
   "source": [
    "// یک مثال دیگر\n",
    "\n",
    "class S {\n",
    "    void m() {\n",
    "        System.out.println(\"method is invoked\");\n",
    "    }\n",
    "\n",
    "    void n() {\n",
    "        this.m(); // no need because compiler does it for you.\n",
    "    }\n",
    "\n",
    "    void p() {\n",
    "        n(); // compiler will add this to invoke n() method as this.n()\n",
    "    }\n",
    "\n",
    "    public static void main(String args[]) {\n",
    "        S s1 = new S();\n",
    "        s1.p();\n",
    "    }\n",
    "}\n",
    "\n",
    "S.main(new String[]{});"
   ]
  },
  {
   "cell_type": "markdown",
   "id": "2940d0b7",
   "metadata": {},
   "source": [
    "<link rel=\"stylesheet\" href=\"style.css\">\n",
    "<div class=\"card\" dir=\"rtl\">\n",
    "  <p> <strong>  آیا this دقیقا همان ریموت کنترل شیئ است؟ </strong> </p>\n",
    "  <ul>\n",
    "    <li> برای اثبات اینکه this به متغیر نمونه کلاس قعلی اشاره می‌کند، برنامه زیر را ملاحظه کنید: </li>\n",
    "  </ul>\n",
    "\n",
    "</div>"
   ]
  },
  {
   "cell_type": "code",
   "execution_count": null,
   "id": "8eb098f6",
   "metadata": {
    "vscode": {
     "languageId": "java"
    }
   },
   "outputs": [],
   "source": [
    "class A5 {\n",
    "    void m() {\n",
    "        System.out.println(this); // prints same reference ID\n",
    "    }\n",
    "\n",
    "    public static void main(String args[]) {\n",
    "        A5 obj = new A5();\n",
    "        System.out.println(obj); // prints the reference ID\n",
    "\n",
    "        obj.m();\n",
    "    }\n",
    "}\n",
    "\n",
    "A5.main(new String[]{});"
   ]
  },
  {
   "cell_type": "markdown",
   "id": "fcfa2bdb",
   "metadata": {},
   "source": [
    "<link rel=\"stylesheet\" href=\"style.css\">\n",
    "<div class=\"card\" dir=\"rtl\" style=\"background: #f9fafb; border: 2px solid #059669;\">\n",
    "  <h3 style=\"color: #047857;\">خودمون رو بسنجیم</h3>\n",
    "  <p>\n",
    "      این بخش برای این طراحی شده که در پایان مطالعه این اسلاید، بتونی خودت رو محک بزنی و ببینی\n",
    "    آیا مفاهیم رو به خوبی یاد گرفتی یا نه. سوالات زیر رو مرور کن و سعی کن بدون نگاه کردن به متن\n",
    "    درس، به اون ها پاسخ بدی. \n",
    "  </p>\n",
    "\n",
    "  <ul>\n",
    "    <li><strong>JDK</strong> چیه و یک فایل جاوا چه مراحلی رو طی می‌کنه تا اجرا بشه؟</li>\n",
    "    <li>چه شکلی جاوا مستقل از پلتفرم هستش؟</li>\n",
    "    <li>داخل تمرین‌های درس چه شکلی قراره به هم کمک کنیم؟ :))</li>\n",
    "  </ul>\n",
    "\n",
    "  <hr class=\"divider\" />\n",
    "\n",
    "  <div style=\"text-align: center; padding: 1.5rem; border-radius: 12px; background: white; border: 1px dashed rgba(4,120,87,0.4); max-width: 300px; margin: 0 auto;\">\n",
    "    <h4 style=\"margin: 0; font-size: 1.4rem; color: #dc2626;\">پایان</h4>\n",
    "    <p style=\"margin-top: 0.5rem; font-weight: 500; color: #374151;\">در صورت هرگونه سوال یا پیشنهاد میتونید با من در ارتباط باشید :)</p>\n",
    "    <p>gmail: foroutanazanin@gmail.com</p>\n",
    "    <p>telegram: @naforoutan</p>\n",
    "  </div>\n",
    "</div>\n",
    "<br></br>\n"
   ]
  }
 ],
 "metadata": {
  "kernelspec": {
   "display_name": "java (JJava/j!)",
   "language": "java",
   "name": "jbang-jjava"
  },
  "language_info": {
   "codemirror_mode": "java",
   "file_extension": ".jshell",
   "mimetype": "text/x-java-source",
   "name": "Java",
   "pygments_lexer": "java",
   "version": "21.0.2+13-LTS-58"
  }
 },
 "nbformat": 4,
 "nbformat_minor": 5
}
